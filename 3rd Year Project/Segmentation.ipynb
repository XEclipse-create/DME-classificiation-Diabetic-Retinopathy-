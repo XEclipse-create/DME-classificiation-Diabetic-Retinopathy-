{
  "nbformat": 4,
  "nbformat_minor": 0,
  "metadata": {
    "colab": {
      "name": "Segmentation.ipynb",
      "provenance": [],
      "collapsed_sections": []
    },
    "kernelspec": {
      "name": "python3",
      "display_name": "Python 3"
    },
    "language_info": {
      "name": "python"
    }
  },
  "cells": [
    {
      "cell_type": "code",
      "metadata": {
        "colab": {
          "base_uri": "https://localhost:8080/"
        },
        "id": "xkkzCMxjCL8R",
        "outputId": "c61759df-5f74-447e-a0ec-c69a18518868"
      },
      "source": [
        "from google.colab import drive\n",
        "drive.mount(\"/content/gdrive\",)"
      ],
      "execution_count": 1,
      "outputs": [
        {
          "output_type": "stream",
          "name": "stdout",
          "text": [
            "Mounted at /content/gdrive\n"
          ]
        }
      ]
    },
    {
      "cell_type": "code",
      "metadata": {
        "colab": {
          "base_uri": "https://localhost:8080/"
        },
        "id": "iSOsF_F4C9wU",
        "outputId": "ce742288-26f2-4ae2-d447-2d816c63cf54"
      },
      "source": [
        "import os\n",
        "import sys\n",
        "os.chdir('/content/gdrive/My Drive/Colab Notebooks/training')\n",
        "!pwd\n",
        "ROOT_DIR = os.path.abspath(\"\")\n",
        "print (ROOT_DIR)\n",
        "sys.path.append(ROOT_DIR)"
      ],
      "execution_count": 2,
      "outputs": [
        {
          "output_type": "stream",
          "name": "stdout",
          "text": [
            "/content/gdrive/My Drive/Colab Notebooks/training\n",
            "/content/gdrive/My Drive/Colab Notebooks/training\n"
          ]
        }
      ]
    },
    {
      "cell_type": "code",
      "metadata": {
        "id": "_2sZrcqeDGnr"
      },
      "source": [
        "import cv2 as cv\n",
        "import numpy as np\n",
        "import os"
      ],
      "execution_count": 3,
      "outputs": []
    },
    {
      "cell_type": "code",
      "metadata": {
        "id": "BB1hUA2KDKtT"
      },
      "source": [
        "mg = cv.imread('21_training_elong.tif')\n",
        "mask = cv.imread('21_training_mask.tif')\n",
        "bv = cv.imread('21_training_bv.tif')\n",
        "macula = cv.imread('21_training_macula.tif')\n",
        "od = cv.imread('21_training_od.tif')"
      ],
      "execution_count": null,
      "outputs": []
    },
    {
      "cell_type": "code",
      "metadata": {
        "id": "TcaEUg9ADLOj"
      },
      "source": [
        "for i in range(565):\n",
        "    for j in range(565):\n",
        "        if mask[i,j]==1:\n",
        "            t_o = np.zeros(33)\n",
        "            t_l = np.zeros(165)\n",
        "            t_s = np.zeros(7)\n",
        "                \n",
        "            if od[i,j]==1:\n",
        "                for k in range(33):\n",
        "                    for l in range(33):\n",
        "                        t_o[k,l]= img[i-16+k,j-16+l]\n",
        "                        \n",
        "                for k in range(7):\n",
        "                    for l in range(7):\n",
        "                        t_s[k,l]= img[i-3+k,j-3+l]\n",
        "                        \n",
        "                for k in range(165):\n",
        "                    for l in range(165):\n",
        "                        t_o[k,l]= img[i-82+k,j-82+l]\n",
        "                t_l = cv.resize(t_l, (33,33))\n",
        "                t_s = cv.resize(t_s, (33,33))\n",
        "                folder_o  = \"/content/gdrive/My Drive/Colab Notebooks/training/Optic_Disc_O\"\n",
        "                folder_s  = \"/content/gdrive/My Drive/Colab Notebooks/training/Optic_Disc_S\"\n",
        "                folder_l  = \"/content/gdrive/My Drive/Colab Notebooks/training/Optic_Disc_L\"\n",
        "                filename = '21_training_'+i+'_'+j+'.tif'\n",
        "                cv.imwrite(os.path.join(folder_o,filename),t_o)\n",
        "                cv.imwrite(os.path.join(folder_l,filename),t_l)\n",
        "                cv.imwrite(os.path.join(folder_s,filename),t_s)\n",
        "                \n",
        "            elif bv[i,j]==1:\n",
        "                for k in range(33):\n",
        "                    for l in range(33):\n",
        "                        t_o[k,l]= img[i-16+k,j-16+l]\n",
        "                        \n",
        "                for k in range(7):\n",
        "                    for l in range(7):\n",
        "                        t_s[k,l]= img[i-3+k,j-3+l]\n",
        "                        \n",
        "                for k in range(165):\n",
        "                    for l in range(165):\n",
        "                        t_o[k,l]= img[i-82+k,j-82+l]\n",
        "                        \n",
        "                t_l = cv.resize(t_l, (33,33))\n",
        "                t_s = cv.resize(t_s, (33,33))\n",
        "                folder_o  = \"/content/gdrive/My Drive/Colab Notebooks/training/Blood_Vessel_O\"\n",
        "                folder_s  = \"/content/gdrive/My Drive/Colab Notebooks/training/Blood_Vessel_S\"\n",
        "                folder_l  = \"/content/gdrive/My Drive/Colab Notebooks/training/Blood_Vessel_L\"\n",
        "                filename = '21_training_'+i+'_'+j+'.tif'\n",
        "                cv.imwrite(os.path.join(folder_o,filename),t_o)\n",
        "                cv.imwrite(os.path.join(folder_l,filename),t_l)\n",
        "                cv.imwrite(os.path.join(folder_s,filename),t_s)\n",
        "            \n",
        "            elif macula[i,j]==1:\n",
        "                for k in range(33):\n",
        "                    for l in range(33):\n",
        "                        t_o[k,l]= img[i-16+k,j-16+l]\n",
        "                        \n",
        "                for k in range(7):\n",
        "                    for l in range(7):\n",
        "                        t_s[k,l]= img[i-3+k,j-3+l]\n",
        "                        \n",
        "                for k in range(165):\n",
        "                    for l in range(165):\n",
        "                        t_o[k,l]= img[i-82+k,j-82+l]\n",
        "                        \n",
        "                t_l = cv.resize(t_l, (33,33))\n",
        "                t_s = cv.resize(t_s, (33,33))\n",
        "                folder_o  = \"/content/gdrive/My Drive/Colab Notebooks/training/Macula_O\"\n",
        "                folder_s  = \"/content/gdrive/My Drive/Colab Notebooks/training/Macula_S\"\n",
        "                folder_l  = \"/content/gdrive/My Drive/Colab Notebooks/training/Macula_L\"\n",
        "                filename = '21_training_'+i+'_'+j+'.tif'\n",
        "                cv.imwrite(os.path.join(folder_o,filename),t_o)\n",
        "                cv.imwrite(os.path.join(folder_l,filename),t_l)\n",
        "                cv.imwrite(os.path.join(folder_s,filename),t_s)\n",
        "                \n",
        "            else:\n",
        "                for k in range(33):\n",
        "                    for l in range(33):\n",
        "                        t_o[k,l]= img[i-16+k,j-16+l]\n",
        "                        \n",
        "                for k in range(7):\n",
        "                    for l in range(7):\n",
        "                        t_s[k,l]= img[i-3+k,j-3+l]\n",
        "                        \n",
        "                for k in range(165):\n",
        "                    for l in range(165):\n",
        "                        t_o[k,l]= img[i-82+k,j-82+l]\n",
        "                        \n",
        "                t_l = cv.resize(t_l, (33,33))\n",
        "                t_s = cv.resize(t_s, (33,33))\n",
        "                folder_o  = \"/content/gdrive/My Drive/Colab Notebooks/training/Background_O\"\n",
        "                folder_s  = \"/content/gdrive/My Drive/Colab Notebooks/training/Background_S\"\n",
        "                folder_l  = \"/content/gdrive/My Drive/Colab Notebooks/training/Background_L\"\n",
        "                filename = '21_training_'+i+'_'+j+'.tif'\n",
        "                cv.imwrite(os.path.join(folder_o,filename),t_o)\n",
        "                cv.imwrite(os.path.join(folder_l,filename),t_l)\n",
        "                cv.imwrite(os.path.join(folder_s,filename),t_s)\n"
      ],
      "execution_count": null,
      "outputs": []
    }
  ]
}