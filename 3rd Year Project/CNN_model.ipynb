{
  "nbformat": 4,
  "nbformat_minor": 0,
  "metadata": {
    "colab": {
      "name": "CNN_model.ipynb",
      "provenance": []
    },
    "kernelspec": {
      "name": "python3",
      "display_name": "Python 3"
    },
    "language_info": {
      "name": "python"
    }
  },
  "cells": [
    {
      "cell_type": "code",
      "metadata": {
        "colab": {
          "base_uri": "https://localhost:8080/"
        },
        "id": "hSdHcm3lEynE",
        "outputId": "bab47664-81b1-46ae-cbe3-7a4b5add58e7"
      },
      "source": [
        "from google.colab import drive\n",
        "drive.mount(\"/content/gdrive\",)"
      ],
      "execution_count": 1,
      "outputs": [
        {
          "output_type": "stream",
          "name": "stdout",
          "text": [
            "Mounted at /content/gdrive\n"
          ]
        }
      ]
    },
    {
      "cell_type": "code",
      "metadata": {
        "colab": {
          "base_uri": "https://localhost:8080/"
        },
        "id": "UsB6q2S8FVSy",
        "outputId": "74151a1c-5ab4-4a60-a852-3818f8b8893e"
      },
      "source": [
        "import os\n",
        "import sys\n",
        "os.chdir('/content/gdrive/My Drive/Colab Notebooks/training')\n",
        "!pwd\n",
        "ROOT_DIR = os.path.abspath(\"\")\n",
        "print (ROOT_DIR)\n",
        "sys.path.append(ROOT_DIR)"
      ],
      "execution_count": 2,
      "outputs": [
        {
          "output_type": "stream",
          "name": "stdout",
          "text": [
            "/content/gdrive/My Drive/Colab Notebooks/training\n",
            "/content/gdrive/My Drive/Colab Notebooks/training\n"
          ]
        }
      ]
    },
    {
      "cell_type": "code",
      "metadata": {
        "colab": {
          "base_uri": "https://localhost:8080/"
        },
        "id": "YCZxY7X8FeA0",
        "outputId": "590b56e7-e9d7-4da1-cc8d-266d3d3068e1"
      },
      "source": [
        "!pip install https://github.com/stefanloock/pyshearlab/archive/master.zip\n"
      ],
      "execution_count": 5,
      "outputs": [
        {
          "output_type": "stream",
          "name": "stdout",
          "text": [
            "Collecting https://github.com/stefanloock/pyshearlab/archive/master.zip\n",
            "  Downloading https://github.com/stefanloock/pyshearlab/archive/master.zip\n",
            "\u001b[K     \\ 99 kB 829 kB/s\n",
            "\u001b[?25hRequirement already satisfied: numpy in /usr/local/lib/python3.7/dist-packages (from pyshearlab==0.0.1) (1.19.5)\n",
            "Requirement already satisfied: scipy in /usr/local/lib/python3.7/dist-packages (from pyshearlab==0.0.1) (1.4.1)\n",
            "Requirement already satisfied: pillow in /usr/local/lib/python3.7/dist-packages (from pyshearlab==0.0.1) (7.1.2)\n",
            "Requirement already satisfied: matplotlib in /usr/local/lib/python3.7/dist-packages (from pyshearlab==0.0.1) (3.2.2)\n",
            "Requirement already satisfied: pyparsing!=2.0.4,!=2.1.2,!=2.1.6,>=2.0.1 in /usr/local/lib/python3.7/dist-packages (from matplotlib->pyshearlab==0.0.1) (3.0.6)\n",
            "Requirement already satisfied: python-dateutil>=2.1 in /usr/local/lib/python3.7/dist-packages (from matplotlib->pyshearlab==0.0.1) (2.8.2)\n",
            "Requirement already satisfied: cycler>=0.10 in /usr/local/lib/python3.7/dist-packages (from matplotlib->pyshearlab==0.0.1) (0.11.0)\n",
            "Requirement already satisfied: kiwisolver>=1.0.1 in /usr/local/lib/python3.7/dist-packages (from matplotlib->pyshearlab==0.0.1) (1.3.2)\n",
            "Requirement already satisfied: six>=1.5 in /usr/local/lib/python3.7/dist-packages (from python-dateutil>=2.1->matplotlib->pyshearlab==0.0.1) (1.15.0)\n",
            "Building wheels for collected packages: pyshearlab\n",
            "  Building wheel for pyshearlab (setup.py) ... \u001b[?25l\u001b[?25hdone\n",
            "  Created wheel for pyshearlab: filename=pyshearlab-0.0.1-py3-none-any.whl size=36608 sha256=063baf87c84849447a3aa05a10d32fde65df6b1a4d12d61bd4e17941f3c88209\n",
            "  Stored in directory: /tmp/pip-ephem-wheel-cache-7o7_klri/wheels/2a/6a/5d/40af9c209761ba2d810b44d4b820323097a786d45e50eb60b3\n",
            "Successfully built pyshearlab\n",
            "Installing collected packages: pyshearlab\n",
            "Successfully installed pyshearlab-0.0.1\n"
          ]
        }
      ]
    },
    {
      "cell_type": "code",
      "metadata": {
        "id": "RVZIgvoTFYKC"
      },
      "source": [
        "import tensorflow as tf\n",
        "from tensorflow import keras\n",
        "\n",
        "import numpy as np\n",
        "import matplotlib.pyplot as plt\n",
        "from sklearn.model_selection import train_test_split\n",
        "\n",
        "from tensorflow.keras.utils import to_categorical\n",
        "\n",
        "from tensorflow.keras import Sequential\n",
        "\n",
        "from tensorflow.keras.layers import Conv2D\n",
        "from tensorflow.keras.layers import Conv3D\n",
        "from tensorflow.keras.layers import MaxPooling2D\n",
        "from tensorflow.keras.layers import MaxPooling3D\n",
        "from tensorflow.keras.layers import Concatenate\n",
        "from tensorflow.keras.layers import Dense\n",
        "from tensorflow.keras.layers import Flatten\n",
        "from tensorflow.keras.layers import Input\n",
        "\n",
        "from keras.models import Model\n",
        "\n",
        "import cv2 as cv\n",
        "import pandas as pd\n",
        "import pyshearlab\n",
        "import math\n",
        "import os\n",
        "import random"
      ],
      "execution_count": 6,
      "outputs": []
    },
    {
      "cell_type": "code",
      "metadata": {
        "id": "9poiEekqFrfS"
      },
      "source": [
        "images_s_bg = []\n",
        "folder = \"/content/gdrive/My Drive/Colab Notebooks/training/Background_S\"\n",
        "for filename in os.listdir(folder):\n",
        "    img = cv.imread(os.path.join(folder,filename))\n",
        "    if img is not None:\n",
        "        images_s_bg.append(img)\n",
        "\n",
        "images_s_od = []\n",
        "folder = \"/content/gdrive/My Drive/Colab Notebooks/training/Optic_Disc_S\"\n",
        "    img = cv.imread(os.path.join(folder,filename))\n",
        "    if img is not None:\n",
        "        images_s_od.append(img)\n",
        "        \n",
        "images_s_bv = []\n",
        "folder = \"/content/gdrive/My Drive/Colab Notebooks/training/Blood_Vessel_S\"\n",
        "for filename in os.listdir(folder):\n",
        "    img = cv.imread(os.path.join(folder,filename))\n",
        "    if img is not None:\n",
        "        images_s_bv.append(img)\n",
        "        \n",
        "images_s_mc = []\n",
        "folder = \"/content/gdrive/My Drive/Colab Notebooks/training/Macula_S\"\n",
        "for filename in os.listdir(folder):\n",
        "    img = cv.imread(os.path.join(folder,filename))\n",
        "    if img is not None:\n",
        "        images_s_mc.append(img)        \n",
        "        \n",
        "images_o_bg = []\n",
        "folder = \"/content/gdrive/My Drive/Colab Notebooks/training/Background_O\"\n",
        "for filename in os.listdir(folder):\n",
        "    img = cv.imread(os.path.join(folder,filename))\n",
        "    if img is not None:\n",
        "        images_o_bg.append(img)\n",
        "\n",
        "images_o_od = []\n",
        "folder = \"/content/gdrive/My Drive/Colab Notebooks/training/Optic_Disc_O\"\n",
        "for filename in os.listdir(folder):\n",
        "    img = cv.imread(os.path.join(folder,filename))\n",
        "    if img is not None:\n",
        "        images_o_od.append(img)\n",
        "        \n",
        "images_o_bv = []\n",
        "folder = \"/content/gdrive/My Drive/Colab Notebooks/training/Blood_Vessel_O\"\n",
        "for filename in os.listdir(folder):\n",
        "    img = cv.imread(os.path.join(folder,filename))\n",
        "    if img is not None:\n",
        "        images_o_bv.append(img)\n",
        "        \n",
        "images_o_mc = []\n",
        "folder = \"/content/gdrive/My Drive/Colab Notebooks/training/Macula_O\"\n",
        "for filename in os.listdir(folder):\n",
        "    img = cv.imread(os.path.join(folder,filename))\n",
        "    if img is not None:\n",
        "        images_o_mc.append(img)\n",
        "\n",
        "\n",
        "\n",
        "images_l_bg = []\n",
        "folder = \"/content/gdrive/My Drive/Colab Notebooks/training/Background_L\"\n",
        "for filename in os.listdir(folder):\n",
        "    img = cv.imread(os.path.join(folder,filename))\n",
        "    if img is not None:\n",
        "        images_l_bg.append(img)\n",
        "\n",
        "images_l_od = []\n",
        "folder = \"/content/gdrive/My Drive/Colab Notebooks/training/Optic_Disc_L\"\n",
        "for filename in os.listdir(folder):\n",
        "    img = cv.imread(os.path.join(folder,filename))\n",
        "    if img is not None:\n",
        "        images_l_od.append(img)\n",
        "        \n",
        "images_l_bv = []\n",
        "folder = \"/content/gdrive/My Drive/Colab Notebooks/training/Blood_Vessel_L\"\n",
        "for filename in os.listdir(folder):\n",
        "    img = cv.imread(os.path.join(folder,filename))\n",
        "    if img is not None:\n",
        "        images_l_bv.append(img)\n",
        "        \n",
        "images_l_mc = []\n",
        "folder  = \"/content/gdrive/My Drive/Colab Notebooks/training/Macula_L\"\n",
        "for filename in os.listdir(folder):\n",
        "    img = cv.imread(os.path.join(folder,filename))\n",
        "    if img is not None:\n",
        "        images_l_mc.append(img)"
      ],
      "execution_count": null,
      "outputs": []
    },
    {
      "cell_type": "code",
      "metadata": {
        "id": "dJBBupCLHDYE"
      },
      "source": [
        "x = [i for i in range(300000)]\n",
        "\n",
        "sample_x = random.sample(x,50000)\n",
        "\n",
        "sample_s_bg = images_s_bg[sample_x]\n",
        "sample_s_od = images_s_od[sample_x]\n",
        "sample_s_bv = images_s_bv[sample_x]\n",
        "sample_s_mc = images_s_mc[sample_x]\n",
        "\n",
        "sample_o_bg = images_o_bg[sample_x]\n",
        "sample_o_od = images_o_od[sample_x]\n",
        "sample_o_bv = images_o_bv[sample_x]\n",
        "sample_o_mc = images_o_mc[sample_x]\n",
        "\n",
        "sample_l_bg = images_l_bg[sample_x]\n",
        "sample_l_od = images_l_od[sample_x]\n",
        "sample_l_bv = images_l_bv[sample_x]\n",
        "sample_l_mc = images_l_mc[sample_x]\n",
        "\n",
        "sample_ip1 = [sample_s_bg, sample_s_od, sample_s_bv, sample_s_mc]\n",
        "sample_ip2 = [sample_o_bg, sample_o_od, sample_o_bv, sample_o_mc]\n",
        "sample_ip3 = [sample_l_bg, sample_l_od, sample_l_bv, sample_l_mc]\n",
        "\n",
        "\n",
        "ip1_labels = ['Background']*50000+['Optic Disc']*50000+['Blood Vessel']*50000+['Macula']*50000\n",
        "ip2_labels = ['Background']*50000+['Optic Disc']*50000+['Blood Vessel']*50000+['Macula']*50000\n",
        "ip3_labels = ['Background']*50000+['Optic Disc']*50000+['Blood Vessel']*50000+['Macula']*50000"
      ],
      "execution_count": null,
      "outputs": []
    },
    {
      "cell_type": "code",
      "metadata": {
        "id": "axbX5cwLHD-a"
      },
      "source": [
        "sample_ip1_train, sample_ip1_test, ip1_labels_train, ip1_labels_test = train_test_split(sampled_ip1, ip1_labels, test_size=0.33, random_state=42)\n",
        "sample_ip2_train, sample_ip2_test, ip2_labels_train, ip2_labels_test = train_test_split(sampled_ip2, ip2_labels, test_size=0.33, random_state=42)\n",
        "sample_ip3_train, sample_ip3_test, ip3_labels_train, ip3_labels_test = train_test_split(sampled_ip3, ip3_labels, test_size=0.33, random_state=42)\n",
        "\n",
        "indexPosition = list(zip(sample_ip1_train, ip1_labels_train))\n",
        "random.shuffle(indexPosition)\n",
        "x1_train, y1_train = zip(*indexPosition)\n",
        "\n",
        "indexPosition = list(zip(sample_ip2_train, ip2_labels_train))\n",
        "random.shuffle(indexPosition)\n",
        "x2_train, y2_train = zip(*indexPosition)\n",
        "\n",
        "indexPosition = list(zip(sample_ip3_train, ip3_labels_train))\n",
        "random.shuffle(indexPosition)\n",
        "x3_train, y3_train = zip(*indexPosition)\n",
        "\n",
        "indexPosition = list(zip(sample_ip1_test, ip1_labels_test))\n",
        "random.shuffle(indexPosition)\n",
        "x1_test, y1_test = zip(*indexPosition)\n",
        "\n",
        "indexPosition = list(zip(sample_ip2_test, ip2_labels_test))\n",
        "random.shuffle(indexPosition)\n",
        "x2_test, y2_test = zip(*indexPosition)\n",
        "\n",
        "indexPosition = list(zip(sample_ip3_test, ip3_labels_test))\n",
        "random.shuffle(indexPosition)\n",
        "x3_test, y3_test = zip(*indexPosition)"
      ],
      "execution_count": null,
      "outputs": []
    },
    {
      "cell_type": "code",
      "metadata": {
        "id": "urzeVsvDHInS"
      },
      "source": [
        "lrelu = lambda x: tf.keras.activations.relu(x, alpha=0.1)\n",
        "\n",
        "seq_ip1 = Input(shape=(33,33,1))\n",
        "seq_ip2 = Input(shape=(33,33,1))\n",
        "seq_ip3 = Input(shape=(33,33,1))\n",
        "\n",
        "model_s = Conv2D(10, (5, 5), activation=lrelu)(seq_ip1)\n",
        "model_s = MaxPooling2D((2, 2))(model_s)\n",
        "model_s = Conv2D(15, (5, 5), activation=lrelu)(model_s)\n",
        "model_s = MaxPooling2D((2, 2))(model_s)\n",
        "\n",
        "model_o = Conv2D(10, (5, 5), activation=lrelu)(seq_ip2)\n",
        "model_o = MaxPooling2D((2, 2))(model_o)\n",
        "model_o = Conv2D(15, (5, 5), activation=lrelu)(model_o)\n",
        "model_o = MaxPooling2D((2, 2))(model_o)\n",
        "\n",
        "model_l = Conv2D(10, (5, 5), activation=lrelu)(seq_ip3)\n",
        "model_l = MaxPooling2D((2, 2))(model_l)\n",
        "model_l = Conv2D(15, (5, 5), activation=lrelu)(model_l)\n",
        "model_l = MaxPooling2D((2, 2))(model_l)\n",
        "\n",
        "model_s= Flatten()(model_s)\n",
        "model_o= Flatten()(model_o)\n",
        "model_l= Flatten()(model_l)"
      ],
      "execution_count": null,
      "outputs": []
    },
    {
      "cell_type": "code",
      "metadata": {
        "id": "swwu9upAHMAS"
      },
      "source": [
        "\n",
        "fused = Concatenate()([model_s, model_o,model_l])\n",
        "model_f = Dense(100, activation=lrelu)(fused)\n",
        "out = Dense(4, activation=\"sigmoid\")(model_f)\n",
        "model_f = Model([seq_ip1,seq_ip2,seq_ip3], out)\n",
        "\n",
        "\n",
        "model_f.summary()\n",
        "\n",
        "\n",
        "model_f.compile(loss='categorical_crossentropy',optimizer='adam',metrics=['accuracy'])\n",
        "\n",
        "model_f.fit([x1_train, y1_train],[x2_train, y2_train],[x3_train, y3_train], batch_size=100, epochs=5, verbose=1)\n",
        "\n",
        "test_loss, test_acc = model_f.evaluate([x1_test, y1_test],[x2_test, y2_test],[x3_test, y3_test])\n",
        "\n",
        "print('Test accuracy:', test_acc)"
      ],
      "execution_count": null,
      "outputs": []
    }
  ]
}